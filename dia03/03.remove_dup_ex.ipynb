{
 "cells": [
  {
   "cell_type": "code",
   "execution_count": 1,
   "metadata": {},
   "outputs": [],
   "source": [
    "import pandas as pd"
   ]
  },
  {
   "cell_type": "code",
   "execution_count": 7,
   "metadata": {},
   "outputs": [
    {
     "data": {
      "text/html": [
       "<div>\n",
       "<style scoped>\n",
       "    .dataframe tbody tr th:only-of-type {\n",
       "        vertical-align: middle;\n",
       "    }\n",
       "\n",
       "    .dataframe tbody tr th {\n",
       "        vertical-align: top;\n",
       "    }\n",
       "\n",
       "    .dataframe thead th {\n",
       "        text-align: right;\n",
       "    }\n",
       "</style>\n",
       "<table border=\"1\" class=\"dataframe\">\n",
       "  <thead>\n",
       "    <tr style=\"text-align: right;\">\n",
       "      <th></th>\n",
       "      <th>UUID</th>\n",
       "      <th>IdCustomer</th>\n",
       "      <th>DtTransaction</th>\n",
       "      <th>Points</th>\n",
       "    </tr>\n",
       "  </thead>\n",
       "  <tbody>\n",
       "    <tr>\n",
       "      <th>0</th>\n",
       "      <td>fb4e3102-6125-414e-b086-e7f641e38f93</td>\n",
       "      <td>5f8fcbe0-6014-43f8-8b83-38cf2f4887b3</td>\n",
       "      <td>2024-01-27 11:53:23.774</td>\n",
       "      <td>1</td>\n",
       "    </tr>\n",
       "    <tr>\n",
       "      <th>1</th>\n",
       "      <td>036b8d66-8adf-479b-ba0f-cb0e3207acb0</td>\n",
       "      <td>5f8fcbe0-6014-43f8-8b83-38cf2f4887b3</td>\n",
       "      <td>2024-01-27 11:53:24.643</td>\n",
       "      <td>1</td>\n",
       "    </tr>\n",
       "    <tr>\n",
       "      <th>2</th>\n",
       "      <td>10166182-a164-4608-8cdf-35e4450b2bd7</td>\n",
       "      <td>5f8fcbe0-6014-43f8-8b83-38cf2f4887b3</td>\n",
       "      <td>2024-01-27 12:11:44.728</td>\n",
       "      <td>500</td>\n",
       "    </tr>\n",
       "    <tr>\n",
       "      <th>3</th>\n",
       "      <td>03974c58-e86e-4b6b-8143-8f89ca870d09</td>\n",
       "      <td>5f8fcbe0-6014-43f8-8b83-38cf2f4887b3</td>\n",
       "      <td>2024-01-27 12:19:41.063</td>\n",
       "      <td>1</td>\n",
       "    </tr>\n",
       "    <tr>\n",
       "      <th>4</th>\n",
       "      <td>e84703a6-b606-4096-a2f3-514971c16c5c</td>\n",
       "      <td>5f8fcbe0-6014-43f8-8b83-38cf2f4887b3</td>\n",
       "      <td>2024-01-27 12:31:46.288</td>\n",
       "      <td>500</td>\n",
       "    </tr>\n",
       "  </tbody>\n",
       "</table>\n",
       "</div>"
      ],
      "text/plain": [
       "                                   UUID                            IdCustomer  \\\n",
       "0  fb4e3102-6125-414e-b086-e7f641e38f93  5f8fcbe0-6014-43f8-8b83-38cf2f4887b3   \n",
       "1  036b8d66-8adf-479b-ba0f-cb0e3207acb0  5f8fcbe0-6014-43f8-8b83-38cf2f4887b3   \n",
       "2  10166182-a164-4608-8cdf-35e4450b2bd7  5f8fcbe0-6014-43f8-8b83-38cf2f4887b3   \n",
       "3  03974c58-e86e-4b6b-8143-8f89ca870d09  5f8fcbe0-6014-43f8-8b83-38cf2f4887b3   \n",
       "4  e84703a6-b606-4096-a2f3-514971c16c5c  5f8fcbe0-6014-43f8-8b83-38cf2f4887b3   \n",
       "\n",
       "            DtTransaction  Points  \n",
       "0 2024-01-27 11:53:23.774       1  \n",
       "1 2024-01-27 11:53:24.643       1  \n",
       "2 2024-01-27 12:11:44.728     500  \n",
       "3 2024-01-27 12:19:41.063       1  \n",
       "4 2024-01-27 12:31:46.288     500  "
      ]
     },
     "execution_count": 7,
     "metadata": {},
     "output_type": "execute_result"
    }
   ],
   "source": [
    "df = pd.read_excel('../data/transactions.xlsx')\n",
    "df.head()"
   ]
  },
  {
   "cell_type": "code",
   "execution_count": 9,
   "metadata": {},
   "outputs": [
    {
     "data": {
      "text/html": [
       "<div>\n",
       "<style scoped>\n",
       "    .dataframe tbody tr th:only-of-type {\n",
       "        vertical-align: middle;\n",
       "    }\n",
       "\n",
       "    .dataframe tbody tr th {\n",
       "        vertical-align: top;\n",
       "    }\n",
       "\n",
       "    .dataframe thead th {\n",
       "        text-align: right;\n",
       "    }\n",
       "</style>\n",
       "<table border=\"1\" class=\"dataframe\">\n",
       "  <thead>\n",
       "    <tr style=\"text-align: right;\">\n",
       "      <th></th>\n",
       "      <th>UUID</th>\n",
       "      <th>IdCustomer</th>\n",
       "      <th>DtTransaction</th>\n",
       "      <th>Points</th>\n",
       "    </tr>\n",
       "  </thead>\n",
       "  <tbody>\n",
       "    <tr>\n",
       "      <th>23501</th>\n",
       "      <td>07d25502-18a9-4107-b4af-9b5ba8b5a46d</td>\n",
       "      <td>5f8fcbe0-6014-43f8-8b83-38cf2f4887b3</td>\n",
       "      <td>2024-03-04 12:26:03.369</td>\n",
       "      <td>1</td>\n",
       "    </tr>\n",
       "    <tr>\n",
       "      <th>23500</th>\n",
       "      <td>7429b0a5-08a5-470c-8091-12f627d21911</td>\n",
       "      <td>f3a268f2-1788-47da-bc79-2680a1721254</td>\n",
       "      <td>2024-03-04 12:25:28.565</td>\n",
       "      <td>50</td>\n",
       "    </tr>\n",
       "    <tr>\n",
       "      <th>23499</th>\n",
       "      <td>827a1417-902c-4657-a0e5-4cef5d2bd8ca</td>\n",
       "      <td>0ed6b09e-4329-4d2a-837b-2aad4796cd3a</td>\n",
       "      <td>2024-03-04 12:25:13.024</td>\n",
       "      <td>1</td>\n",
       "    </tr>\n",
       "    <tr>\n",
       "      <th>23497</th>\n",
       "      <td>25500149-c2b8-4942-90f7-39f136d9fb1b</td>\n",
       "      <td>2d7f6b3f-9366-44c1-9663-beb5f7e1254e</td>\n",
       "      <td>2024-03-04 12:24:18.083</td>\n",
       "      <td>1</td>\n",
       "    </tr>\n",
       "    <tr>\n",
       "      <th>23495</th>\n",
       "      <td>aeb17cd4-36ae-43ae-9c18-c37fb91f292e</td>\n",
       "      <td>3f55b86f-dc21-4ac8-8e89-7c1535359eaf</td>\n",
       "      <td>2024-03-04 12:24:09.030</td>\n",
       "      <td>1</td>\n",
       "    </tr>\n",
       "  </tbody>\n",
       "</table>\n",
       "</div>"
      ],
      "text/plain": [
       "                                       UUID  \\\n",
       "23501  07d25502-18a9-4107-b4af-9b5ba8b5a46d   \n",
       "23500  7429b0a5-08a5-470c-8091-12f627d21911   \n",
       "23499  827a1417-902c-4657-a0e5-4cef5d2bd8ca   \n",
       "23497  25500149-c2b8-4942-90f7-39f136d9fb1b   \n",
       "23495  aeb17cd4-36ae-43ae-9c18-c37fb91f292e   \n",
       "\n",
       "                                 IdCustomer           DtTransaction  Points  \n",
       "23501  5f8fcbe0-6014-43f8-8b83-38cf2f4887b3 2024-03-04 12:26:03.369       1  \n",
       "23500  f3a268f2-1788-47da-bc79-2680a1721254 2024-03-04 12:25:28.565      50  \n",
       "23499  0ed6b09e-4329-4d2a-837b-2aad4796cd3a 2024-03-04 12:25:13.024       1  \n",
       "23497  2d7f6b3f-9366-44c1-9663-beb5f7e1254e 2024-03-04 12:24:18.083       1  \n",
       "23495  3f55b86f-dc21-4ac8-8e89-7c1535359eaf 2024-03-04 12:24:09.030       1  "
      ]
     },
     "execution_count": 9,
     "metadata": {},
     "output_type": "execute_result"
    }
   ],
   "source": [
    "# encontra a última transação de cada IdCustomer\n",
    "df_last = df.sort_values(by='DtTransaction', ascending=False).drop_duplicates(subset=['IdCustomer'])\n",
    "df_last.head()"
   ]
  },
  {
   "cell_type": "code",
   "execution_count": 14,
   "metadata": {},
   "outputs": [
    {
     "data": {
      "text/html": [
       "<div>\n",
       "<style scoped>\n",
       "    .dataframe tbody tr th:only-of-type {\n",
       "        vertical-align: middle;\n",
       "    }\n",
       "\n",
       "    .dataframe tbody tr th {\n",
       "        vertical-align: top;\n",
       "    }\n",
       "\n",
       "    .dataframe thead th {\n",
       "        text-align: right;\n",
       "    }\n",
       "</style>\n",
       "<table border=\"1\" class=\"dataframe\">\n",
       "  <thead>\n",
       "    <tr style=\"text-align: right;\">\n",
       "      <th></th>\n",
       "      <th>UUID</th>\n",
       "      <th>IdCustomer</th>\n",
       "      <th>DtTransaction</th>\n",
       "      <th>Points</th>\n",
       "    </tr>\n",
       "  </thead>\n",
       "  <tbody>\n",
       "    <tr>\n",
       "      <th>23501</th>\n",
       "      <td>07d25502-18a9-4107-b4af-9b5ba8b5a46d</td>\n",
       "      <td>5f8fcbe0-6014-43f8-8b83-38cf2f4887b3</td>\n",
       "      <td>2024-03-04 12:26:03.369</td>\n",
       "      <td>1</td>\n",
       "    </tr>\n",
       "  </tbody>\n",
       "</table>\n",
       "</div>"
      ],
      "text/plain": [
       "                                       UUID  \\\n",
       "23501  07d25502-18a9-4107-b4af-9b5ba8b5a46d   \n",
       "\n",
       "                                 IdCustomer           DtTransaction  Points  \n",
       "23501  5f8fcbe0-6014-43f8-8b83-38cf2f4887b3 2024-03-04 12:26:03.369       1  "
      ]
     },
     "execution_count": 14,
     "metadata": {},
     "output_type": "execute_result"
    }
   ],
   "source": [
    "# como testar se está correto?\n",
    "# pegar infos do df original e comparar com df_last\n",
    "\n",
    "condicao = df['IdCustomer'] == '5f8fcbe0-6014-43f8-8b83-38cf2f4887b3'\n",
    "df[condicao].sort_values(by='DtTransaction', ascending=False).drop_duplicates(subset=['IdCustomer'])"
   ]
  },
  {
   "cell_type": "code",
   "execution_count": 15,
   "metadata": {},
   "outputs": [
    {
     "name": "stderr",
     "output_type": "stream",
     "text": [
      "/tmp/ipykernel_24017/121684441.py:1: UserWarning: Boolean Series key will be reindexed to match DataFrame index.\n",
      "  df_last[condicao]\n"
     ]
    },
    {
     "data": {
      "text/html": [
       "<div>\n",
       "<style scoped>\n",
       "    .dataframe tbody tr th:only-of-type {\n",
       "        vertical-align: middle;\n",
       "    }\n",
       "\n",
       "    .dataframe tbody tr th {\n",
       "        vertical-align: top;\n",
       "    }\n",
       "\n",
       "    .dataframe thead th {\n",
       "        text-align: right;\n",
       "    }\n",
       "</style>\n",
       "<table border=\"1\" class=\"dataframe\">\n",
       "  <thead>\n",
       "    <tr style=\"text-align: right;\">\n",
       "      <th></th>\n",
       "      <th>UUID</th>\n",
       "      <th>IdCustomer</th>\n",
       "      <th>DtTransaction</th>\n",
       "      <th>Points</th>\n",
       "    </tr>\n",
       "  </thead>\n",
       "  <tbody>\n",
       "    <tr>\n",
       "      <th>23501</th>\n",
       "      <td>07d25502-18a9-4107-b4af-9b5ba8b5a46d</td>\n",
       "      <td>5f8fcbe0-6014-43f8-8b83-38cf2f4887b3</td>\n",
       "      <td>2024-03-04 12:26:03.369</td>\n",
       "      <td>1</td>\n",
       "    </tr>\n",
       "  </tbody>\n",
       "</table>\n",
       "</div>"
      ],
      "text/plain": [
       "                                       UUID  \\\n",
       "23501  07d25502-18a9-4107-b4af-9b5ba8b5a46d   \n",
       "\n",
       "                                 IdCustomer           DtTransaction  Points  \n",
       "23501  5f8fcbe0-6014-43f8-8b83-38cf2f4887b3 2024-03-04 12:26:03.369       1  "
      ]
     },
     "execution_count": 15,
     "metadata": {},
     "output_type": "execute_result"
    }
   ],
   "source": [
    "df_last[condicao]"
   ]
  },
  {
   "cell_type": "code",
   "execution_count": null,
   "metadata": {},
   "outputs": [],
   "source": []
  }
 ],
 "metadata": {
  "kernelspec": {
   "display_name": "Python 3",
   "language": "python",
   "name": "python3"
  },
  "language_info": {
   "codemirror_mode": {
    "name": "ipython",
    "version": 3
   },
   "file_extension": ".py",
   "mimetype": "text/x-python",
   "name": "python",
   "nbconvert_exporter": "python",
   "pygments_lexer": "ipython3",
   "version": "3.10.13"
  }
 },
 "nbformat": 4,
 "nbformat_minor": 2
}
