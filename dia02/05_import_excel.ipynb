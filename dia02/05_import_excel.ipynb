{
 "cells": [
  {
   "cell_type": "code",
   "execution_count": 3,
   "metadata": {},
   "outputs": [
    {
     "name": "stdout",
     "output_type": "stream",
     "text": [
      "Collecting openpyxl\n",
      "  Downloading openpyxl-3.1.2-py2.py3-none-any.whl.metadata (2.5 kB)\n",
      "Collecting et-xmlfile (from openpyxl)\n",
      "  Downloading et_xmlfile-1.1.0-py3-none-any.whl.metadata (1.8 kB)\n",
      "Downloading openpyxl-3.1.2-py2.py3-none-any.whl (249 kB)\n",
      "\u001b[2K   \u001b[90m━━━━━━━━━━━━━━━━━━━━━━━━━━━━━━━━━━━━━━━━\u001b[0m \u001b[32m250.0/250.0 kB\u001b[0m \u001b[31m5.2 MB/s\u001b[0m eta \u001b[36m0:00:00\u001b[0m:00:01\u001b[0m\n",
      "\u001b[?25hDownloading et_xmlfile-1.1.0-py3-none-any.whl (4.7 kB)\n",
      "Installing collected packages: et-xmlfile, openpyxl\n",
      "Successfully installed et-xmlfile-1.1.0 openpyxl-3.1.2\n",
      "Note: you may need to restart the kernel to use updated packages.\n"
     ]
    }
   ],
   "source": [
    "import pandas as pd\n",
    "%pip install openpyxl"
   ]
  },
  {
   "cell_type": "code",
   "execution_count": 5,
   "metadata": {},
   "outputs": [
    {
     "data": {
      "text/html": [
       "<div>\n",
       "<style scoped>\n",
       "    .dataframe tbody tr th:only-of-type {\n",
       "        vertical-align: middle;\n",
       "    }\n",
       "\n",
       "    .dataframe tbody tr th {\n",
       "        vertical-align: top;\n",
       "    }\n",
       "\n",
       "    .dataframe thead th {\n",
       "        text-align: right;\n",
       "    }\n",
       "</style>\n",
       "<table border=\"1\" class=\"dataframe\">\n",
       "  <thead>\n",
       "    <tr style=\"text-align: right;\">\n",
       "      <th></th>\n",
       "      <th>UUID</th>\n",
       "      <th>IdCustomer</th>\n",
       "      <th>DtTransaction</th>\n",
       "      <th>Points</th>\n",
       "    </tr>\n",
       "  </thead>\n",
       "  <tbody>\n",
       "    <tr>\n",
       "      <th>0</th>\n",
       "      <td>fb4e3102-6125-414e-b086-e7f641e38f93</td>\n",
       "      <td>5f8fcbe0-6014-43f8-8b83-38cf2f4887b3</td>\n",
       "      <td>2024-01-27 11:53:23.774</td>\n",
       "      <td>1</td>\n",
       "    </tr>\n",
       "    <tr>\n",
       "      <th>1</th>\n",
       "      <td>036b8d66-8adf-479b-ba0f-cb0e3207acb0</td>\n",
       "      <td>5f8fcbe0-6014-43f8-8b83-38cf2f4887b3</td>\n",
       "      <td>2024-01-27 11:53:24.643</td>\n",
       "      <td>1</td>\n",
       "    </tr>\n",
       "    <tr>\n",
       "      <th>2</th>\n",
       "      <td>10166182-a164-4608-8cdf-35e4450b2bd7</td>\n",
       "      <td>5f8fcbe0-6014-43f8-8b83-38cf2f4887b3</td>\n",
       "      <td>2024-01-27 12:11:44.728</td>\n",
       "      <td>500</td>\n",
       "    </tr>\n",
       "    <tr>\n",
       "      <th>3</th>\n",
       "      <td>03974c58-e86e-4b6b-8143-8f89ca870d09</td>\n",
       "      <td>5f8fcbe0-6014-43f8-8b83-38cf2f4887b3</td>\n",
       "      <td>2024-01-27 12:19:41.063</td>\n",
       "      <td>1</td>\n",
       "    </tr>\n",
       "    <tr>\n",
       "      <th>4</th>\n",
       "      <td>e84703a6-b606-4096-a2f3-514971c16c5c</td>\n",
       "      <td>5f8fcbe0-6014-43f8-8b83-38cf2f4887b3</td>\n",
       "      <td>2024-01-27 12:31:46.288</td>\n",
       "      <td>500</td>\n",
       "    </tr>\n",
       "  </tbody>\n",
       "</table>\n",
       "</div>"
      ],
      "text/plain": [
       "                                   UUID                            IdCustomer  \\\n",
       "0  fb4e3102-6125-414e-b086-e7f641e38f93  5f8fcbe0-6014-43f8-8b83-38cf2f4887b3   \n",
       "1  036b8d66-8adf-479b-ba0f-cb0e3207acb0  5f8fcbe0-6014-43f8-8b83-38cf2f4887b3   \n",
       "2  10166182-a164-4608-8cdf-35e4450b2bd7  5f8fcbe0-6014-43f8-8b83-38cf2f4887b3   \n",
       "3  03974c58-e86e-4b6b-8143-8f89ca870d09  5f8fcbe0-6014-43f8-8b83-38cf2f4887b3   \n",
       "4  e84703a6-b606-4096-a2f3-514971c16c5c  5f8fcbe0-6014-43f8-8b83-38cf2f4887b3   \n",
       "\n",
       "            DtTransaction  Points  \n",
       "0 2024-01-27 11:53:23.774       1  \n",
       "1 2024-01-27 11:53:24.643       1  \n",
       "2 2024-01-27 12:11:44.728     500  \n",
       "3 2024-01-27 12:19:41.063       1  \n",
       "4 2024-01-27 12:31:46.288     500  "
      ]
     },
     "execution_count": 5,
     "metadata": {},
     "output_type": "execute_result"
    }
   ],
   "source": [
    "df = pd.read_excel('../data/transactions.xlsx')\n",
    "df.head(5)\n"
   ]
  },
  {
   "cell_type": "code",
   "execution_count": 6,
   "metadata": {},
   "outputs": [
    {
     "data": {
      "text/plain": [
       "(23502, 4)"
      ]
     },
     "execution_count": 6,
     "metadata": {},
     "output_type": "execute_result"
    }
   ],
   "source": [
    "df.shape"
   ]
  },
  {
   "cell_type": "code",
   "execution_count": 7,
   "metadata": {},
   "outputs": [
    {
     "data": {
      "text/html": [
       "<div>\n",
       "<style scoped>\n",
       "    .dataframe tbody tr th:only-of-type {\n",
       "        vertical-align: middle;\n",
       "    }\n",
       "\n",
       "    .dataframe tbody tr th {\n",
       "        vertical-align: top;\n",
       "    }\n",
       "\n",
       "    .dataframe thead th {\n",
       "        text-align: right;\n",
       "    }\n",
       "</style>\n",
       "<table border=\"1\" class=\"dataframe\">\n",
       "  <thead>\n",
       "    <tr style=\"text-align: right;\">\n",
       "      <th></th>\n",
       "      <th>UUID</th>\n",
       "      <th>IdCustomer</th>\n",
       "      <th>DtTransaction</th>\n",
       "      <th>Points</th>\n",
       "    </tr>\n",
       "  </thead>\n",
       "  <tbody>\n",
       "    <tr>\n",
       "      <th>23497</th>\n",
       "      <td>25500149-c2b8-4942-90f7-39f136d9fb1b</td>\n",
       "      <td>2d7f6b3f-9366-44c1-9663-beb5f7e1254e</td>\n",
       "      <td>2024-03-04 12:24:18.083</td>\n",
       "      <td>1</td>\n",
       "    </tr>\n",
       "    <tr>\n",
       "      <th>23498</th>\n",
       "      <td>75b3856f-083d-4775-98c9-7a9791b4d693</td>\n",
       "      <td>0ed6b09e-4329-4d2a-837b-2aad4796cd3a</td>\n",
       "      <td>2024-03-04 12:24:27.976</td>\n",
       "      <td>1</td>\n",
       "    </tr>\n",
       "    <tr>\n",
       "      <th>23499</th>\n",
       "      <td>827a1417-902c-4657-a0e5-4cef5d2bd8ca</td>\n",
       "      <td>0ed6b09e-4329-4d2a-837b-2aad4796cd3a</td>\n",
       "      <td>2024-03-04 12:25:13.024</td>\n",
       "      <td>1</td>\n",
       "    </tr>\n",
       "    <tr>\n",
       "      <th>23500</th>\n",
       "      <td>7429b0a5-08a5-470c-8091-12f627d21911</td>\n",
       "      <td>f3a268f2-1788-47da-bc79-2680a1721254</td>\n",
       "      <td>2024-03-04 12:25:28.565</td>\n",
       "      <td>50</td>\n",
       "    </tr>\n",
       "    <tr>\n",
       "      <th>23501</th>\n",
       "      <td>07d25502-18a9-4107-b4af-9b5ba8b5a46d</td>\n",
       "      <td>5f8fcbe0-6014-43f8-8b83-38cf2f4887b3</td>\n",
       "      <td>2024-03-04 12:26:03.369</td>\n",
       "      <td>1</td>\n",
       "    </tr>\n",
       "  </tbody>\n",
       "</table>\n",
       "</div>"
      ],
      "text/plain": [
       "                                       UUID  \\\n",
       "23497  25500149-c2b8-4942-90f7-39f136d9fb1b   \n",
       "23498  75b3856f-083d-4775-98c9-7a9791b4d693   \n",
       "23499  827a1417-902c-4657-a0e5-4cef5d2bd8ca   \n",
       "23500  7429b0a5-08a5-470c-8091-12f627d21911   \n",
       "23501  07d25502-18a9-4107-b4af-9b5ba8b5a46d   \n",
       "\n",
       "                                 IdCustomer           DtTransaction  Points  \n",
       "23497  2d7f6b3f-9366-44c1-9663-beb5f7e1254e 2024-03-04 12:24:18.083       1  \n",
       "23498  0ed6b09e-4329-4d2a-837b-2aad4796cd3a 2024-03-04 12:24:27.976       1  \n",
       "23499  0ed6b09e-4329-4d2a-837b-2aad4796cd3a 2024-03-04 12:25:13.024       1  \n",
       "23500  f3a268f2-1788-47da-bc79-2680a1721254 2024-03-04 12:25:28.565      50  \n",
       "23501  5f8fcbe0-6014-43f8-8b83-38cf2f4887b3 2024-03-04 12:26:03.369       1  "
      ]
     },
     "execution_count": 7,
     "metadata": {},
     "output_type": "execute_result"
    }
   ],
   "source": [
    "df.tail()"
   ]
  },
  {
   "cell_type": "code",
   "execution_count": 9,
   "metadata": {},
   "outputs": [
    {
     "data": {
      "text/html": [
       "<div>\n",
       "<style scoped>\n",
       "    .dataframe tbody tr th:only-of-type {\n",
       "        vertical-align: middle;\n",
       "    }\n",
       "\n",
       "    .dataframe tbody tr th {\n",
       "        vertical-align: top;\n",
       "    }\n",
       "\n",
       "    .dataframe thead th {\n",
       "        text-align: right;\n",
       "    }\n",
       "</style>\n",
       "<table border=\"1\" class=\"dataframe\">\n",
       "  <thead>\n",
       "    <tr style=\"text-align: right;\">\n",
       "      <th></th>\n",
       "      <th>UUID</th>\n",
       "      <th>Points</th>\n",
       "      <th>IdCustomer</th>\n",
       "      <th>DtTransaction</th>\n",
       "    </tr>\n",
       "  </thead>\n",
       "  <tbody>\n",
       "    <tr>\n",
       "      <th>0</th>\n",
       "      <td>fb4e3102-6125-414e-b086-e7f641e38f93</td>\n",
       "      <td>1</td>\n",
       "      <td>5f8fcbe0-6014-43f8-8b83-38cf2f4887b3</td>\n",
       "      <td>2024-01-27 11:53:23.774</td>\n",
       "    </tr>\n",
       "    <tr>\n",
       "      <th>1</th>\n",
       "      <td>036b8d66-8adf-479b-ba0f-cb0e3207acb0</td>\n",
       "      <td>1</td>\n",
       "      <td>5f8fcbe0-6014-43f8-8b83-38cf2f4887b3</td>\n",
       "      <td>2024-01-27 11:53:24.643</td>\n",
       "    </tr>\n",
       "    <tr>\n",
       "      <th>2</th>\n",
       "      <td>10166182-a164-4608-8cdf-35e4450b2bd7</td>\n",
       "      <td>500</td>\n",
       "      <td>5f8fcbe0-6014-43f8-8b83-38cf2f4887b3</td>\n",
       "      <td>2024-01-27 12:11:44.728</td>\n",
       "    </tr>\n",
       "    <tr>\n",
       "      <th>3</th>\n",
       "      <td>03974c58-e86e-4b6b-8143-8f89ca870d09</td>\n",
       "      <td>1</td>\n",
       "      <td>5f8fcbe0-6014-43f8-8b83-38cf2f4887b3</td>\n",
       "      <td>2024-01-27 12:19:41.063</td>\n",
       "    </tr>\n",
       "    <tr>\n",
       "      <th>4</th>\n",
       "      <td>e84703a6-b606-4096-a2f3-514971c16c5c</td>\n",
       "      <td>500</td>\n",
       "      <td>5f8fcbe0-6014-43f8-8b83-38cf2f4887b3</td>\n",
       "      <td>2024-01-27 12:31:46.288</td>\n",
       "    </tr>\n",
       "  </tbody>\n",
       "</table>\n",
       "</div>"
      ],
      "text/plain": [
       "                                   UUID  Points  \\\n",
       "0  fb4e3102-6125-414e-b086-e7f641e38f93       1   \n",
       "1  036b8d66-8adf-479b-ba0f-cb0e3207acb0       1   \n",
       "2  10166182-a164-4608-8cdf-35e4450b2bd7     500   \n",
       "3  03974c58-e86e-4b6b-8143-8f89ca870d09       1   \n",
       "4  e84703a6-b606-4096-a2f3-514971c16c5c     500   \n",
       "\n",
       "                             IdCustomer           DtTransaction  \n",
       "0  5f8fcbe0-6014-43f8-8b83-38cf2f4887b3 2024-01-27 11:53:23.774  \n",
       "1  5f8fcbe0-6014-43f8-8b83-38cf2f4887b3 2024-01-27 11:53:24.643  \n",
       "2  5f8fcbe0-6014-43f8-8b83-38cf2f4887b3 2024-01-27 12:11:44.728  \n",
       "3  5f8fcbe0-6014-43f8-8b83-38cf2f4887b3 2024-01-27 12:19:41.063  \n",
       "4  5f8fcbe0-6014-43f8-8b83-38cf2f4887b3 2024-01-27 12:31:46.288  "
      ]
     },
     "execution_count": 9,
     "metadata": {},
     "output_type": "execute_result"
    }
   ],
   "source": [
    "colunas = ['UUID', 'Points', \"IdCustomer\", \"DtTransaction\"]\n",
    "df = df[colunas]\n",
    "df.head()"
   ]
  },
  {
   "cell_type": "code",
   "execution_count": 11,
   "metadata": {},
   "outputs": [
    {
     "name": "stdout",
     "output_type": "stream",
     "text": [
      "<class 'pandas.core.frame.DataFrame'>\n",
      "RangeIndex: 23502 entries, 0 to 23501\n",
      "Data columns (total 4 columns):\n",
      " #   Column         Non-Null Count  Dtype         \n",
      "---  ------         --------------  -----         \n",
      " 0   UUID           23502 non-null  object        \n",
      " 1   Points         23502 non-null  int64         \n",
      " 2   IdCustomer     23502 non-null  object        \n",
      " 3   DtTransaction  23502 non-null  datetime64[ns]\n",
      "dtypes: datetime64[ns](1), int64(1), object(2)\n",
      "memory usage: 4.5 MB\n"
     ]
    }
   ],
   "source": [
    "df.info(memory_usage='deep')"
   ]
  },
  {
   "cell_type": "code",
   "execution_count": null,
   "metadata": {},
   "outputs": [],
   "source": []
  }
 ],
 "metadata": {
  "kernelspec": {
   "display_name": "Python 3",
   "language": "python",
   "name": "python3"
  },
  "language_info": {
   "codemirror_mode": {
    "name": "ipython",
    "version": 3
   },
   "file_extension": ".py",
   "mimetype": "text/x-python",
   "name": "python",
   "nbconvert_exporter": "python",
   "pygments_lexer": "ipython3",
   "version": "3.10.13"
  }
 },
 "nbformat": 4,
 "nbformat_minor": 2
}
